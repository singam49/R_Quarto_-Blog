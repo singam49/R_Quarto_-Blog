{
 "cells": [
  {
   "cell_type": "markdown",
   "id": "66c3a524",
   "metadata": {},
   "source": [
    "#TO DO Add Name and Date Here in Bold"
   ]
  },
  {
   "cell_type": "markdown",
   "id": "a5082ee7",
   "metadata": {},
   "source": [
    "# <center><font color=blue>Assignment 3 Hands-on </font> </center>  \n",
    "## <center><font color=blue>EDA: Python Data Visualization with Matplotlib, Pandas, and NumPy\n",
    " </font> </center> "
   ]
  },
  {
   "cell_type": "markdown",
   "id": "c122df8d",
   "metadata": {},
   "source": [
    "# <font color=black>Import Libraries and Load Dataset </font>"
   ]
  },
  {
   "cell_type": "code",
   "execution_count": null,
   "id": "529b0b1a",
   "metadata": {},
   "outputs": [],
   "source": [
    "# Importing the libraries which are needed to run the code.\n",
    "\n",
    "import pandas as pd\n",
    "import numpy as np\n",
    "\n",
    "# filter warnings\n",
    "import warnings\n",
    "warnings.filterwarnings(\"ignore\")\n",
    "\n",
    "import matplotlib.pyplot as plt\n",
    "\n",
    "from pandas.plotting import scatter_matrix\n",
    "from pandas import DataFrame, read_csv\n",
    "\n"
   ]
  },
  {
   "cell_type": "code",
   "execution_count": null,
   "id": "b8f5065d",
   "metadata": {},
   "outputs": [],
   "source": [
    "# Import os module which is a miscellaneous operating system interface \n",
    "import os\n",
    "\n",
    "#Use a command in the os module to show your current working directory for reference\n",
    "cwd = os.getcwd()\n",
    "cwd"
   ]
  },
  {
   "cell_type": "code",
   "execution_count": null,
   "id": "e96e9b9d",
   "metadata": {},
   "outputs": [],
   "source": [
    "# Load the data set 'iris.csv' into a pandas dataframe\n",
    "# Read the iris data set and create the dataframe df\n",
    "\n",
    "df = ('iris.csv')\n",
    "df = pd.read_csv ('iris.csv') \n",
    "df.head(5)"
   ]
  },
  {
   "cell_type": "code",
   "execution_count": null,
   "id": "ed5b5c07",
   "metadata": {},
   "outputs": [],
   "source": [
    "#print the information about the dataset \n",
    "\n",
    "print(df.info())"
   ]
  },
  {
   "cell_type": "markdown",
   "id": "aa3ee7ab",
   "metadata": {},
   "source": [
    "# Univariate Data Visualization\n",
    "#  Histograms\n",
    "• Histograms are great when we would like to show the distribution of the data we are working with."
   ]
  },
  {
   "cell_type": "code",
   "execution_count": null,
   "id": "4cb514fb",
   "metadata": {},
   "outputs": [],
   "source": [
    "# Create a histogram\n",
    "# SepalWidth - normal dist, PetalLength - bimodal\n",
    "# The normal distribution is so important easier for mathematical statisticians to work with. \n",
    "# Many kinds of statistical tests can be derived from normal distributions.\n",
    "\n",
    "df.hist(figsize=(12,8), color='blue') \n",
    "plt.show"
   ]
  },
  {
   "cell_type": "code",
   "execution_count": null,
   "id": "8eb34884",
   "metadata": {},
   "outputs": [],
   "source": [
    "# Here we want to see the different Species \n",
    "\n",
    "print(df.groupby('Species').size())"
   ]
  },
  {
   "cell_type": "code",
   "execution_count": null,
   "id": "b3e0cf57",
   "metadata": {},
   "outputs": [],
   "source": [
    "# Histograms are great when we would like to show the distribution of the data we are working with.\n",
    "\n",
    "df.hist(figsize=(15,19), color='blue') \n",
    "plt.show"
   ]
  },
  {
   "cell_type": "code",
   "execution_count": null,
   "id": "74af8ad5",
   "metadata": {},
   "outputs": [],
   "source": [
    "# In the above code, we see the variable \"Id\" is included in the analysis. \n",
    "# In order to get rid of this variable we use the following code. \n",
    "# It doesn't provide any output.\n",
    "\n",
    "df.__delitem__('Id')"
   ]
  },
  {
   "cell_type": "code",
   "execution_count": null,
   "id": "f197f2ff",
   "metadata": {},
   "outputs": [],
   "source": [
    "df.hist(figsize=(10,5), color =\"purple\") \n",
    "plt.suptitle(\"Histograms of the Iris Dataset\") \n",
    "plt.show\n",
    "\n",
    "# After this run, we see that \"Id\" is gone. you can also see we changed the color to purple."
   ]
  },
  {
   "cell_type": "markdown",
   "id": "168448c2",
   "metadata": {},
   "source": [
    "## Let's say we want to make changes to the histograms.\n",
    "## We will look at only the PetalLengthCm variable."
   ]
  },
  {
   "cell_type": "code",
   "execution_count": null,
   "id": "eec0b305",
   "metadata": {},
   "outputs": [],
   "source": [
    "# A histogram with just one variable - Sepal Length. \n",
    "# We need to isolate the one variable using square brackets [].\n",
    "\n",
    "plt.figure(figsize = (10, 7))\n",
    "x = df[\"SepalLengthCm\"]\n",
    "\n",
    "# bins is an integer, it defines the number of equal-width bins in the range \n",
    "plt.hist(x, bins = 18, color = \"green\")\n",
    "plt.title(\"Sepal Length in cm\")\n",
    "plt.xlabel(\"Length in Cm\")\n",
    "plt.ylabel(\"Count\")"
   ]
  },
  {
   "cell_type": "code",
   "execution_count": null,
   "id": "fe7d16fe",
   "metadata": {},
   "outputs": [],
   "source": [
    "# Here we are isolating the variable and giving each one a color and a specific number of bins. \n",
    "# grammar of graphics plot\n",
    "\n",
    "plt.style.use(\"ggplot\")\n",
    "\n",
    "fig, axes = plt.subplots(2, 2, figsize=(16,9))\n",
    "\n",
    "axes[0,0].set_title(\"Distribution of Sepal Length in Cm\") \n",
    "axes[0,0].hist(df['SepalLengthCm'], bins=10, color ='blue'); \n",
    "axes[0,1].set_title(\"Distribution of Sepal Width in Cm\") \n",
    "axes[0,1].hist(df['SepalWidthCm'], bins=10, color ='purple'); \n",
    "axes[1,0].set_title(\"Distribution of Petal Length in Cm\") \n",
    "axes[1,0].hist(df['PetalLengthCm'], bins=10, color = 'orange'); \n",
    "axes[1,1].set_title(\"Distribution of Petal Width in Cm\") \n",
    "axes[1,1].hist(df['PetalWidthCm'], bins=10, color ='green');"
   ]
  },
  {
   "cell_type": "code",
   "execution_count": null,
   "id": "7f2211ed",
   "metadata": {},
   "outputs": [],
   "source": [
    "# Lastly, let's change the bin size \n",
    "\n",
    "plt.style.use(\"ggplot\")\n",
    "\n",
    "fig, axes = plt.subplots(2, 2, figsize=(16,9))\n",
    "\n",
    "axes[0,0].set_title(\"Distribution of Sepal Length in Cm\") \n",
    "axes[0,0].hist(df['SepalLengthCm'], bins=20, color ='blue'); \n",
    "axes[0,1].set_title(\"Distribution of Sepal Width in Cm\") \n",
    "axes[0,1].hist(df['SepalWidthCm'], bins=20, color ='purple'); \n",
    "axes[1,0].set_title(\"Distribution of Petal Length in Cm\") \n",
    "axes[1,0].hist(df['PetalLengthCm'], bins=20, color = 'orange'); \n",
    "axes[1,1].set_title(\"Distribution of Petal Width in Cm\") \n",
    "axes[1,1].hist(df['PetalWidthCm'], bins=20, color ='green');"
   ]
  },
  {
   "cell_type": "markdown",
   "id": "cb7f474e",
   "metadata": {},
   "source": [
    "# Density Plots \n",
    "• A Density Plot visualizes the distribution of data over a time period or a continuous interval. This chart is a variation of a Histogram but it smooths out the noise made by binning.\n",
    "\n",
    "• Density Plots have a slight advantage over Histograms since they're better at determining the distribution shape and, as mentioned above, they are not affected by the number of bins used (each bar used in a typical histogram). As we saw above a Histogram with only 10 bins wouldn't produce a distinguishable enough shape of distribution as a 20-bin Histogram would. With Density Plots, this isn't an issue."
   ]
  },
  {
   "cell_type": "code",
   "execution_count": null,
   "id": "805cc5f2",
   "metadata": {},
   "outputs": [],
   "source": [
    "# Create the density plot\n",
    "# If subplots=True is specified, plots for each column are drawn as subplots\n",
    "\n",
    "df.plot(kind='density', subplots=True, layout=(2,2), sharex=False, legend=True, fontsize=1, figsize=(12,16)) \n",
    "plt.show()"
   ]
  },
  {
   "cell_type": "code",
   "execution_count": null,
   "id": "f191b07a",
   "metadata": {},
   "outputs": [],
   "source": [
    "# Create a line graph\n",
    "df.plot(kind='line', subplots=True, layout=(2,2), sharex=False, legend=True, fontsize=1, figsize=(12,16)) \n",
    "plt.show()"
   ]
  },
  {
   "attachments": {
    "Boxplot.png": {
     "image/png": "[encoded data removed]"
    }
   },
   "cell_type": "markdown",
   "id": "58398b9d",
   "metadata": {},
   "source": [
    "## Boxplots\n",
    "• A box plot is a very good plot to understand the spread, median, and outliers of data \n",
    "\n",
    "1. Q3: This is the 75th percentile value of the data. It's also called the upper hinge.\n",
    "2. Q1: This is the 25th percentile value of the data. It's also called the lower hinge.\n",
    "3. Box: This is also called a step. It's the difference between the upper hinge and the lower hinge. \n",
    "4. Median: This is the midpoint of the data.\n",
    "5. Max: This is the upper inner fence. It is 1.5 times the step above Q3.\n",
    "6. Min: This is the lower inner fence. It is 1.5 times the step below Q1.\n",
    "![Boxplot.png](attachment:Boxplot.png)"
   ]
  },
  {
   "cell_type": "code",
   "execution_count": null,
   "id": "851027bd",
   "metadata": {},
   "outputs": [],
   "source": [
    "# Create a box plot\n",
    "\n",
    "df.plot(kind='box', subplots=True, layout=(2,2), sharex=False, sharey=False, color = 'blue', figsize=(12,8)) \n",
    "plt.show()"
   ]
  },
  {
   "cell_type": "code",
   "execution_count": null,
   "id": "c67d5050",
   "metadata": {},
   "outputs": [],
   "source": [
    "# Fill the boxes with color, using patch_artist\n",
    "\n",
    "df.plot(kind='box', subplots=True, layout=(2,2), sharex=False, sharey=False, color = 'blue', figsize=(12,8), patch_artist=True ) \n",
    "plt.show()"
   ]
  },
  {
   "cell_type": "markdown",
   "id": "27174742",
   "metadata": {},
   "source": [
    "## Multivariate Data Visualization \n",
    "## Scatter Matrix Plot\n",
    "\n",
    "• A scatter plot matrix is a grid (or matrix) of scatter plots. This type of graph is used to visualize bivariate relationships between different combinations of variables. Each scatter plot in the matrix visualizes the relationship between a pair of variables, allowing many relationships to be explored in one chart. For example, the first row shows the relationship between SepalLength and the other 3 variables."
   ]
  },
  {
   "cell_type": "code",
   "execution_count": null,
   "id": "bb3393e7",
   "metadata": {},
   "outputs": [],
   "source": [
    "# Create a scatter matrix plot\n",
    "# alpha = Amount of transparency applied\n",
    "\n",
    "scatter_matrix (df, alpha=0.8, figsize=(9,9)) \n",
    "plt.show()"
   ]
  },
  {
   "cell_type": "code",
   "execution_count": null,
   "id": "942d452d",
   "metadata": {},
   "outputs": [],
   "source": [
    "# change the color to purple. Notice only one part of the plot changes.\n",
    "scatter_matrix (df, alpha=0.8, figsize=(19,9), color = 'purple') \n",
    "plt.show()"
   ]
  },
  {
   "cell_type": "code",
   "execution_count": null,
   "id": "85d0015e",
   "metadata": {},
   "outputs": [],
   "source": [
    "# Here you are adding a suptitle.\n",
    "# Pick between ‘kde’ and ‘hist’ for either Kernel Density Estimation or Histogram plot in the diagonal\n",
    "# KDE = a density estimator is an algorithm which seeks to model the probability distribution that generated a dataset\n",
    "\n",
    "scatter_matrix(df,alpha=0.2, diagonal = 'kde', figsize=(19,9)) \n",
    "plt.suptitle('Scatter-matrix for each input variable') \n",
    "plt.tick_params(labelsize=12, pad=6)"
   ]
  },
  {
   "cell_type": "code",
   "execution_count": null,
   "id": "3844c90f",
   "metadata": {},
   "outputs": [],
   "source": [
    "# Lastly, you are changing the color to both parts of the plot.\n",
    "\n",
    "scatter_matrix(df, figsize= (19,9), alpha=0.2,\n",
    "c='red', hist_kwds={'color':['purple']}) \n",
    "plt.suptitle('Scatter-matrix for each input variable', fontsize=28)"
   ]
  },
  {
   "cell_type": "markdown",
   "id": "bb86ddc1",
   "metadata": {},
   "source": [
    "### You are done. Great job!"
   ]
  }
 ],
 "metadata": {
  "kernelspec": {
   "display_name": "Python 3 (ipykernel)",
   "language": "python",
   "name": "python3"
  },
  "language_info": {
   "codemirror_mode": {
    "name": "ipython",
    "version": 3
   },
   "file_extension": ".py",
   "mimetype": "text/x-python",
   "name": "python",
   "nbconvert_exporter": "python",
   "pygments_lexer": "ipython3",
   "version": "3.9.12"
  }
 },
 "nbformat": 4,
 "nbformat_minor": 5
}
